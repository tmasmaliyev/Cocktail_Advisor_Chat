{
 "cells": [
  {
   "cell_type": "code",
   "execution_count": null,
   "metadata": {},
   "outputs": [
    {
     "data": {
      "text/plain": [
       "True"
      ]
     },
     "execution_count": 1,
     "metadata": {},
     "output_type": "execute_result"
    }
   ],
   "source": [
    "import pandas as pd\n",
    "import ast\n",
    "\n",
    "import numpy as np\n",
    "\n",
    "from langchain_community.embeddings import HuggingFaceEmbeddings\n",
    "from langchain_community.vectorstores import FAISS"
   ]
  },
  {
   "cell_type": "code",
   "execution_count": 4,
   "metadata": {},
   "outputs": [],
   "source": [
    "df = pd.read_csv('./final_cocktails.csv')\n",
    "\n",
    "df = df[df.columns[2:]]"
   ]
  },
  {
   "cell_type": "code",
   "execution_count": 5,
   "metadata": {},
   "outputs": [
    {
     "data": {
      "text/html": [
       "<div>\n",
       "<style scoped>\n",
       "    .dataframe tbody tr th:only-of-type {\n",
       "        vertical-align: middle;\n",
       "    }\n",
       "\n",
       "    .dataframe tbody tr th {\n",
       "        vertical-align: top;\n",
       "    }\n",
       "\n",
       "    .dataframe thead th {\n",
       "        text-align: right;\n",
       "    }\n",
       "</style>\n",
       "<table border=\"1\" class=\"dataframe\">\n",
       "  <thead>\n",
       "    <tr style=\"text-align: right;\">\n",
       "      <th></th>\n",
       "      <th>name</th>\n",
       "      <th>alcoholic</th>\n",
       "      <th>category</th>\n",
       "      <th>glassType</th>\n",
       "      <th>instructions</th>\n",
       "      <th>drinkThumbnail</th>\n",
       "      <th>ingredients</th>\n",
       "      <th>ingredientMeasures</th>\n",
       "      <th>text</th>\n",
       "    </tr>\n",
       "  </thead>\n",
       "  <tbody>\n",
       "    <tr>\n",
       "      <th>0</th>\n",
       "      <td>A1</td>\n",
       "      <td>Alcoholic</td>\n",
       "      <td>Cocktail</td>\n",
       "      <td>Cocktail glass</td>\n",
       "      <td>Pour all ingredients into a cocktail shaker, m...</td>\n",
       "      <td>https://www.thecocktaildb.com/images/media/dri...</td>\n",
       "      <td>['Gin', 'Grand Marnier', 'Lemon Juice', 'Grena...</td>\n",
       "      <td>['1 3/4 shot ', '1 Shot ', '1/4 Shot', '1/8 Sh...</td>\n",
       "      <td>question Generate a cocktail with Gin Grand Ma...</td>\n",
       "    </tr>\n",
       "    <tr>\n",
       "      <th>1</th>\n",
       "      <td>ABC</td>\n",
       "      <td>Alcoholic</td>\n",
       "      <td>Shot</td>\n",
       "      <td>Shot glass</td>\n",
       "      <td>Layered in a shot glass.</td>\n",
       "      <td>https://www.thecocktaildb.com/images/media/dri...</td>\n",
       "      <td>['Amaretto', 'Baileys irish cream', 'Cognac']</td>\n",
       "      <td>['1/3 ', '1/3 ', '1/3 ']</td>\n",
       "      <td>question Generate a cocktail with Amaretto Bai...</td>\n",
       "    </tr>\n",
       "    <tr>\n",
       "      <th>2</th>\n",
       "      <td>Ace</td>\n",
       "      <td>Alcoholic</td>\n",
       "      <td>Cocktail</td>\n",
       "      <td>Martini Glass</td>\n",
       "      <td>Shake all the ingredients in a cocktail shaker...</td>\n",
       "      <td>https://www.thecocktaildb.com/images/media/dri...</td>\n",
       "      <td>['Gin', 'Grenadine', 'Heavy cream', 'Milk', 'E...</td>\n",
       "      <td>['2 shots ', '1/2 shot ', '1/2 shot ', '1/2 sh...</td>\n",
       "      <td>question Generate a cocktail with Gin Grenadin...</td>\n",
       "    </tr>\n",
       "    <tr>\n",
       "      <th>3</th>\n",
       "      <td>ACID</td>\n",
       "      <td>Alcoholic</td>\n",
       "      <td>Shot</td>\n",
       "      <td>Shot glass</td>\n",
       "      <td>Poor in the 151 first followed by the 101 serv...</td>\n",
       "      <td>https://www.thecocktaildb.com/images/media/dri...</td>\n",
       "      <td>['151 proof rum', 'Wild Turkey']</td>\n",
       "      <td>['1 oz Bacardi ', '1 oz ']</td>\n",
       "      <td>question Generate a cocktail with 151 proof ru...</td>\n",
       "    </tr>\n",
       "    <tr>\n",
       "      <th>4</th>\n",
       "      <td>Adam</td>\n",
       "      <td>Alcoholic</td>\n",
       "      <td>Ordinary Drink</td>\n",
       "      <td>Cocktail glass</td>\n",
       "      <td>In a shaker half-filled with ice cubes, combin...</td>\n",
       "      <td>https://www.thecocktaildb.com/images/media/dri...</td>\n",
       "      <td>['Dark rum', 'Lemon juice', 'Grenadine']</td>\n",
       "      <td>['2 oz ', '1 oz ', '1 tsp ']</td>\n",
       "      <td>question Generate a cocktail with Dark rum Lem...</td>\n",
       "    </tr>\n",
       "  </tbody>\n",
       "</table>\n",
       "</div>"
      ],
      "text/plain": [
       "   name  alcoholic        category       glassType  \\\n",
       "0    A1  Alcoholic        Cocktail  Cocktail glass   \n",
       "1   ABC  Alcoholic            Shot      Shot glass   \n",
       "2   Ace  Alcoholic        Cocktail   Martini Glass   \n",
       "3  ACID  Alcoholic            Shot      Shot glass   \n",
       "4  Adam  Alcoholic  Ordinary Drink  Cocktail glass   \n",
       "\n",
       "                                        instructions  \\\n",
       "0  Pour all ingredients into a cocktail shaker, m...   \n",
       "1                           Layered in a shot glass.   \n",
       "2  Shake all the ingredients in a cocktail shaker...   \n",
       "3  Poor in the 151 first followed by the 101 serv...   \n",
       "4  In a shaker half-filled with ice cubes, combin...   \n",
       "\n",
       "                                      drinkThumbnail  \\\n",
       "0  https://www.thecocktaildb.com/images/media/dri...   \n",
       "1  https://www.thecocktaildb.com/images/media/dri...   \n",
       "2  https://www.thecocktaildb.com/images/media/dri...   \n",
       "3  https://www.thecocktaildb.com/images/media/dri...   \n",
       "4  https://www.thecocktaildb.com/images/media/dri...   \n",
       "\n",
       "                                         ingredients  \\\n",
       "0  ['Gin', 'Grand Marnier', 'Lemon Juice', 'Grena...   \n",
       "1      ['Amaretto', 'Baileys irish cream', 'Cognac']   \n",
       "2  ['Gin', 'Grenadine', 'Heavy cream', 'Milk', 'E...   \n",
       "3                   ['151 proof rum', 'Wild Turkey']   \n",
       "4           ['Dark rum', 'Lemon juice', 'Grenadine']   \n",
       "\n",
       "                                  ingredientMeasures  \\\n",
       "0  ['1 3/4 shot ', '1 Shot ', '1/4 Shot', '1/8 Sh...   \n",
       "1                           ['1/3 ', '1/3 ', '1/3 ']   \n",
       "2  ['2 shots ', '1/2 shot ', '1/2 shot ', '1/2 sh...   \n",
       "3                         ['1 oz Bacardi ', '1 oz ']   \n",
       "4                       ['2 oz ', '1 oz ', '1 tsp ']   \n",
       "\n",
       "                                                text  \n",
       "0  question Generate a cocktail with Gin Grand Ma...  \n",
       "1  question Generate a cocktail with Amaretto Bai...  \n",
       "2  question Generate a cocktail with Gin Grenadin...  \n",
       "3  question Generate a cocktail with 151 proof ru...  \n",
       "4  question Generate a cocktail with Dark rum Lem...  "
      ]
     },
     "execution_count": 5,
     "metadata": {},
     "output_type": "execute_result"
    }
   ],
   "source": [
    "df.head(5)"
   ]
  },
  {
   "cell_type": "code",
   "execution_count": 6,
   "metadata": {},
   "outputs": [],
   "source": [
    "def clean_ingredients(row):\n",
    "    try:\n",
    "        ingredients = ast.literal_eval(row['ingredients']) if isinstance(row['ingredients'], str) else row['ingredients']\n",
    "        measures = ast.literal_eval(row['ingredientMeasures']) if isinstance(row['ingredientMeasures'], str) else row['ingredientMeasures']\n",
    "        \n",
    "        if isinstance(ingredients, list) and isinstance(measures, list):\n",
    "            return [f\"{m} {i}\" if m else i for i, m in zip(ingredients, measures)]\n",
    "        \n",
    "        return ingredients\n",
    "    except:\n",
    "        return []\n",
    "\n",
    "df['general_ingredients'] = df.apply(clean_ingredients, axis=1)"
   ]
  },
  {
   "cell_type": "code",
   "execution_count": 7,
   "metadata": {},
   "outputs": [],
   "source": [
    "def generate_text(row):\n",
    "    ingredients_text = \", \".join(row[\"general_ingredients\"]) if isinstance(row[\"general_ingredients\"], list) else \"\"\n",
    "    \n",
    "    return f\"{row['name']} is a {row['category']} cocktail served in a {row['glassType']}. \" \\\n",
    "           f\"It is {'alcoholic' if row['alcoholic'].lower() == 'alcoholic' else 'non-alcoholic'}. \" \\\n",
    "           f\"Ingredients: {ingredients_text}. Instructions: {row['instructions']}.\"\n",
    "\n",
    "df['text'] = df.apply(generate_text, axis=1)"
   ]
  },
  {
   "cell_type": "code",
   "execution_count": 8,
   "metadata": {},
   "outputs": [
    {
     "name": "stderr",
     "output_type": "stream",
     "text": [
      "C:\\Users\\TaharMasmaliyev\\AppData\\Local\\Temp\\ipykernel_17916\\412152783.py:1: LangChainDeprecationWarning: The class `HuggingFaceEmbeddings` was deprecated in LangChain 0.2.2 and will be removed in 1.0. An updated version of the class exists in the :class:`~langchain-huggingface package and should be used instead. To use it run `pip install -U :class:`~langchain-huggingface` and import as `from :class:`~langchain_huggingface import HuggingFaceEmbeddings``.\n",
      "  embedding_model = HuggingFaceEmbeddings(model_name=\"sentence-transformers/all-MiniLM-L6-v2\")\n",
      "c:\\Users\\TaharMasmaliyev\\.conda\\envs\\RagPy3.10\\lib\\site-packages\\tqdm\\auto.py:21: TqdmWarning: IProgress not found. Please update jupyter and ipywidgets. See https://ipywidgets.readthedocs.io/en/stable/user_install.html\n",
      "  from .autonotebook import tqdm as notebook_tqdm\n"
     ]
    }
   ],
   "source": [
    "embedding_model = HuggingFaceEmbeddings(model_name=\"sentence-transformers/all-MiniLM-L6-v2\")"
   ]
  },
  {
   "cell_type": "code",
   "execution_count": 9,
   "metadata": {},
   "outputs": [],
   "source": [
    "df[\"embedding\"] = df[\"text\"].apply(lambda x: embedding_model.embed_query(x) if pd.notna(x) else np.zeros(384))"
   ]
  },
  {
   "cell_type": "code",
   "execution_count": null,
   "metadata": {},
   "outputs": [],
   "source": [
    "df['embedding']"
   ]
  },
  {
   "cell_type": "code",
   "execution_count": 10,
   "metadata": {},
   "outputs": [],
   "source": [
    "embeddings = np.vstack(df[\"embedding\"].values)"
   ]
  },
  {
   "cell_type": "code",
   "execution_count": null,
   "metadata": {},
   "outputs": [],
   "source": [
    "vector_db = FAISS.from_texts(\n",
    "    texts=df[\"text\"].tolist(),\n",
    "    embedding=embedding_model\n",
    ")"
   ]
  },
  {
   "cell_type": "code",
   "execution_count": 15,
   "metadata": {},
   "outputs": [],
   "source": [
    "vector_db.save_local(\"faiss_cocktails\")"
   ]
  }
 ],
 "metadata": {
  "kernelspec": {
   "display_name": "RagPy3.10",
   "language": "python",
   "name": "python3"
  },
  "language_info": {
   "codemirror_mode": {
    "name": "ipython",
    "version": 3
   },
   "file_extension": ".py",
   "mimetype": "text/x-python",
   "name": "python",
   "nbconvert_exporter": "python",
   "pygments_lexer": "ipython3",
   "version": "3.10.5"
  }
 },
 "nbformat": 4,
 "nbformat_minor": 2
}
